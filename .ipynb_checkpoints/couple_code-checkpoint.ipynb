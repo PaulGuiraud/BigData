{
 "cells": [
  {
   "cell_type": "markdown",
   "metadata": {},
   "source": [
    "# Packages"
   ]
  },
  {
   "cell_type": "code",
   "execution_count": null,
   "metadata": {},
   "outputs": [],
   "source": [
    "# chargement des données\n",
    "import pandas as pd\n",
    "import numpy as np\n",
    "import matplotlib as mpl\n",
    "import matplotlib.pyplot as plt"
   ]
  },
  {
   "cell_type": "markdown",
   "metadata": {},
   "source": [
    "# Opening + Reading"
   ]
  },
  {
   "cell_type": "code",
   "execution_count": null,
   "metadata": {
    "tags": []
   },
   "outputs": [],
   "source": [
    "with open('neg_net_neh.csv') as f :\n",
    "    print(f)"
   ]
  },
  {
   "cell_type": "code",
   "execution_count": null,
   "metadata": {},
   "outputs": [],
   "source": []
  },
  {
   "cell_type": "code",
   "execution_count": null,
   "metadata": {},
   "outputs": [],
   "source": [
    "df = pd.read_csv('neg_net_neh.csv', sep = \";\", on_bad_lines='skip', encoding='cp1252')\n",
    "df1 = pd.DataFrame(df)"
   ]
  },
  {
   "cell_type": "code",
   "execution_count": null,
   "metadata": {
    "tags": []
   },
   "outputs": [],
   "source": [
    "#df1[df1['code_NETH_rempl'] == 'TCH1']"
   ]
  },
  {
   "cell_type": "code",
   "execution_count": null,
   "metadata": {},
   "outputs": [],
   "source": [
    "#df1[df1['code_NETH_rempl'] == 'TCH2']"
   ]
  },
  {
   "cell_type": "markdown",
   "metadata": {
    "tags": []
   },
   "source": [
    "# Exctracting old and new codes"
   ]
  },
  {
   "cell_type": "markdown",
   "metadata": {},
   "source": [
    "### Old_codesdf['code_nomenclature_net_neh']"
   ]
  },
  {
   "cell_type": "code",
   "execution_count": null,
   "metadata": {
    "tags": []
   },
   "outputs": [],
   "source": [
    "old_code = list(df['code_nomenclature_net_neh'])\n",
    "old_code = [a[0:4] if type(a) == str else str(np.trunc(a))[0:4] for a in old_code] ## replacing every code by str \n",
    "#old_code"
   ]
  },
  {
   "cell_type": "markdown",
   "metadata": {},
   "source": [
    "#### Nombre de old codes uniques"
   ]
  },
  {
   "cell_type": "code",
   "execution_count": null,
   "metadata": {
    "tags": []
   },
   "outputs": [],
   "source": [
    "len(np.unique([a for a in old_code]))"
   ]
  },
  {
   "cell_type": "markdown",
   "metadata": {},
   "source": [
    "### New_codes"
   ]
  },
  {
   "cell_type": "code",
   "execution_count": null,
   "metadata": {
    "tags": []
   },
   "outputs": [],
   "source": [
    "new_code = list(df['code_NETH_rempl'])\n",
    "new_code = [a[0:4] if type(a) == str else str(np.trunc(a))[0:4] for a in new_code]\n",
    "#new_code"
   ]
  },
  {
   "cell_type": "markdown",
   "metadata": {},
   "source": [
    "#### Nombre de old codes uniques"
   ]
  },
  {
   "cell_type": "code",
   "execution_count": null,
   "metadata": {},
   "outputs": [],
   "source": [
    "len(np.unique([a for a in new_code]))"
   ]
  },
  {
   "cell_type": "markdown",
   "metadata": {},
   "source": [
    "### Nombre de NaN dans chaque liste "
   ]
  },
  {
   "cell_type": "code",
   "execution_count": null,
   "metadata": {},
   "outputs": [],
   "source": [
    "print(\"Nombre de nan dans : old_code :\", old_code.count('nan'),\" where old_code is \", len(old_code), \"long\")\n",
    "print(\"Nombre de nan dans : new_code :\", new_code.count('nan'),\" where new_code is \", len(new_code), \"long\")"
   ]
  },
  {
   "cell_type": "markdown",
   "metadata": {},
   "source": [
    "# SANS CODE ETAT "
   ]
  },
  {
   "cell_type": "markdown",
   "metadata": {
    "tags": []
   },
   "source": [
    "### Zip pour avoir chaque couple de code"
   ]
  },
  {
   "cell_type": "code",
   "execution_count": null,
   "metadata": {
    "tags": []
   },
   "outputs": [],
   "source": [
    "list_code_rpl = list(zip(old_code, new_code))\n",
    "print(\"Nombre de couple de codes : \", len(list_code_rpl))\n",
    "#[(a,b) for a,b in list_code_rpl if b == 'TCH1']"
   ]
  },
  {
   "cell_type": "markdown",
   "metadata": {},
   "source": [
    "#### Nombre de NaN to NaN"
   ]
  },
  {
   "cell_type": "code",
   "execution_count": null,
   "metadata": {},
   "outputs": [],
   "source": [
    "## Numbers of nan to nan \n",
    "nan_to_nan = [[a,b] for a,b in list(list_code_rpl) if (a == 'nan') and (b == 'nan')]\n",
    "len(nan_to_nan)"
   ]
  },
  {
   "cell_type": "markdown",
   "metadata": {},
   "source": [
    "## Liste des couples de remplacements de codes (no NaN)"
   ]
  },
  {
   "cell_type": "code",
   "execution_count": null,
   "metadata": {
    "tags": []
   },
   "outputs": [],
   "source": [
    "code_rpl = [(a,b) for a,b in list_code_rpl if (a != b) and (a!= 'nan') and (b != 'nan')]\n",
    "#code_rpl"
   ]
  },
  {
   "cell_type": "markdown",
   "metadata": {},
   "source": [
    "### Couples uniques "
   ]
  },
  {
   "cell_type": "code",
   "execution_count": null,
   "metadata": {},
   "outputs": [],
   "source": [
    "unique_couples = list(set(code_rpl))\n",
    "print(\"Nous avons donc \",len(unique_couples),\" différents couples\")"
   ]
  },
  {
   "cell_type": "markdown",
   "metadata": {},
   "source": [
    "### Création d'un dictionnaire répertoriant chaque nouveau code et les anciens qui pointent vers lui"
   ]
  },
  {
   "cell_type": "code",
   "execution_count": null,
   "metadata": {},
   "outputs": [],
   "source": [
    "# dict new to old \n",
    "unique_new = np.unique([b for a,b in unique_couples])\n",
    "by_new = [(c,[a for a,b in unique_couples if b == c]) for c in unique_new]"
   ]
  },
  {
   "cell_type": "markdown",
   "metadata": {},
   "source": [
    "# NEW RULE : \n",
    "## Il faut prendre les variables 'code_etat' et 'code_grade_NEG' en compte.\n",
    "## Essayer de voir les matchs avec les fichiers de base. "
   ]
  },
  {
   "cell_type": "code",
   "execution_count": null,
   "metadata": {},
   "outputs": [],
   "source": [
    "code_etat = df['code_etat']"
   ]
  },
  {
   "cell_type": "code",
   "execution_count": null,
   "metadata": {
    "tags": []
   },
   "outputs": [],
   "source": [
    "list_code_rpl_etat = list(zip(old_code, new_code, code_etat))\n",
    "print(\"Nombre de couple de codes : \", len(list_code_rpl))\n",
    "#[(a,b) for a,b in list_code_rpl if b == 'TCH1']"
   ]
  },
  {
   "cell_type": "code",
   "execution_count": null,
   "metadata": {
    "tags": []
   },
   "outputs": [],
   "source": [
    "code_rpl_etat = [(a,b,c) for a,b,c in list_code_rpl_etat if (a!= 'nan') and (b != 'nan')]\n",
    "#code_rpl_etat"
   ]
  },
  {
   "cell_type": "code",
   "execution_count": null,
   "metadata": {},
   "outputs": [],
   "source": [
    "unique_trouples_etat = list(set(code_rpl_etat))\n",
    "print(\"Nous avons donc \",len(unique_trouples_etat),\" différents trouples\")"
   ]
  },
  {
   "cell_type": "code",
   "execution_count": null,
   "metadata": {},
   "outputs": [],
   "source": [
    "[(a,b,c) for a,b,c in unique_trouples_etat if a == 'TCH2']"
   ]
  },
  {
   "cell_type": "code",
   "execution_count": null,
   "metadata": {
    "jupyter": {
     "outputs_hidden": true
    },
    "tags": []
   },
   "outputs": [],
   "source": [
    "# dict new to old \n",
    "unique_new_etat = np.unique([b for a,b,c in unique_trouples_etat])\n",
    "by_new_etat = [('New code :',new_code,[('Old codes :',old_code,'N. Etat :',nb_etat) for old_code,b,nb_etat in unique_trouples_etat if b == new_code]) for new_code in unique_new_etat]\n",
    "## vraie liste avec les nouveaux codes états et chaque couple (Ancien code / code état) qui lui sont associés. \n",
    "by_new_etat"
   ]
  },
  {
   "cell_type": "code",
   "execution_count": null,
   "metadata": {
    "tags": []
   },
   "outputs": [],
   "source": [
    "## Lors du dictionnaire de dictionnaire, si un nouveau code est l'arrivée d'un ancien code sous plusieurs code état, celui apparaitra 1seule fois \n",
    "## on veut juste récuperer la liste des anciens codes ne pointant que vers 1 nouveau code. \n",
    "by_new_etat_dict = dict([(new_code,{old_code : nb_etat for old_code,b,nb_etat in unique_trouples_etat if b == new_code}) for new_code in unique_new_etat])\n",
    "by_new_etat_dict"
   ]
  },
  {
   "cell_type": "code",
   "execution_count": null,
   "metadata": {},
   "outputs": [],
   "source": [
    "unique_old_etat = np.unique([a for a,b,c in unique_trouples_etat])"
   ]
  },
  {
   "cell_type": "code",
   "execution_count": null,
   "metadata": {
    "tags": []
   },
   "outputs": [],
   "source": [
    "dict_old_code_remplacable_c_to_v = {}\n",
    "dict_old_code_remplacable_v_to_c = {True : [] ,False : []}\n",
    "for old_code in unique_old_etat :\n",
    "    result = 0 \n",
    "    for new_code in by_new_etat_dict.keys():\n",
    "        if old_code in by_new_etat_dict[new_code]:\n",
    "            result += 1\n",
    "    dict_old_code_remplacable_v_to_c[result == 1].append(old_code)\n",
    "    dict_old_code_remplacable[old_code] = (result == 1)"
   ]
  },
  {
   "cell_type": "code",
   "execution_count": null,
   "metadata": {},
   "outputs": [],
   "source": [
    "dict_"
   ]
  },
  {
   "cell_type": "code",
   "execution_count": null,
   "metadata": {},
   "outputs": [],
   "source": [
    "len(dict_old_code_remplacable_v_to_c[True])"
   ]
  }
 ],
 "metadata": {
  "kernelspec": {
   "display_name": "Python 3 (ipykernel)",
   "language": "python",
   "name": "python3"
  },
  "language_info": {
   "codemirror_mode": {
    "name": "ipython",
    "version": 3
   },
   "file_extension": ".py",
   "mimetype": "text/x-python",
   "name": "python",
   "nbconvert_exporter": "python",
   "pygments_lexer": "ipython3",
   "version": "3.9.13"
  }
 },
 "nbformat": 4,
 "nbformat_minor": 4
}
