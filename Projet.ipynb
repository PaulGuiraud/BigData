{
 "cells": [
  {
   "cell_type": "markdown",
   "id": "3f52479d-09d1-4b40-91c6-e28d238168f9",
   "metadata": {},
   "source": [
    "<p style=\"color:#FFF; background:#40806E;margin-left:0%; padding:5px;  text-align:center\"><br>\n",
    "<span style=\"font-size:48px; font-style:italic; font-family:'Century Schoolbook'\"><b>Data challenge CDC – données carrière</b></span><br>\n",
    "<span style=\"color:#000000;font-size:28px; font-style:italic; font-family:'Century Schoolbook'\"><b>Econométrie des Big Data</b></span><br>\n",
    "<span style=\"font-size:22px; font-style:italic; font-family:'Century Schoolbook'\"><b>Mathieu Davoust, Maxime Gouttes & Paul Guiraud</b></span><br>\n",
    "<span style=\"color:#FFF;width:49%; font-size:15px; display:inline-block; text-align:left;font-style:normal; font-family:'Century Schoolbook'\"><b>11 avril 2023</b></span>\n",
    "<span style=\"color:#FFF;width:49%;font-size:15px; display:inline-block; text-align:right;font-style:normal; font-family:'Century Schoolbook'\"><b>Université de Bordeaux</b></span></p>"
   ]
  },
  {
   "cell_type": "markdown",
   "id": "4c5a4ad1-24a9-4da7-82b6-f9331191b06f",
   "metadata": {},
   "source": [
    "<p style=\"color:#FFF; background:#AD1C1C; padding:5px;  font-style:italic; text-align:center\">\n",
    "<span style=\"font-size:30px; font-style:normal; font-family:'Century Schoolbook'\">Introduction / blabla sur le sujet (bandeau pas nécessaire)</span>\n",
    "</p>"
   ]
  },
  {
   "cell_type": "markdown",
   "id": "8de1b0c2-932a-4939-bb19-131225f3305b",
   "metadata": {},
   "source": [
    "Reformuler/expliquer ce blabla :\n",
    "\n",
    "\n",
    "Parmi les régimes de retraite dont la Caisse des Dépôts a la gestion, la CNRACL se distingue comme étant le plus gros régime de retraite de base, en termes d’effectifs de cotisants et pensionnés comme de masses de pension versées. Les enjeux de pilotage de ce régime sont donc particulièrement importants. Les prévisions et autres projections du régime participent à ce pilotage, puisqu’elles permettent d’identifier les enjeux, mais également d’étudier les répercussions de réformes passées ou de mesures à venir. Ces projections s’appuient majoritairement sur les données de gestion du régime (informations administratives sur les personnes, données de carrière, …) transmises lors des déclarations des employeurs. D’autres sources de données peuvent toutefois venir compléter ces informations.\n",
    "La qualité des données transmises, récupérées et traitées est donc un enjeu particulièrement important pour la direction des études et des statistiques, en charge de la réalisation des projections. Par ailleurs, le modèle de projection du régime de la CNRACL est un modèle de microsimulation – nommé Canopée – qui va simuler les trajectoires individuelles et non à un niveau agrégé. A ce titre, il est important de pouvoir disposer, pour chaque personne présente dans le modèle (individu présent dans les effectifs initiaux (cotisants et pensionnés) ou projeté), de ses caractéristiques. Ainsi, pour chacune des variables retenues, il faudra disposer de l’information souhaitée, ou, à défaut, pouvoir lui en assigner une à l’aide d’une complétion ou d’une estimation la plus précise possible se basant sur son historique ou sur l’étude des autres individus.\n",
    "\n",
    "L’enjeu ici va être de pouvoir affecter pour chaque période et chaque individu, un grade donné, notamment quand le code grade est manquant. Il faudra également fournir des éléments d’explication de la manière dont on contrôle la qualité de la complétion effectuée. \n"
   ]
  },
  {
   "cell_type": "markdown",
   "id": "db47c4b3-1cb5-4786-a20e-07705941caca",
   "metadata": {},
   "source": [
    "<p style=\"color:#FFF; background:#AD1C1C; padding:5px;  font-style:italic; text-align:center\">\n",
    "<span style=\"font-size:30px; font-style:normal; font-family:'Century Schoolbook'\">\"Description des variables\"</span>\n",
    "</p>"
   ]
  },
  {
   "cell_type": "markdown",
   "id": "5a55e234-0349-4436-b491-fc130faa4a52",
   "metadata": {},
   "source": [
    "Dans 'neg_net_neh.csv', on retrouve la nomenclature des emplois territoriaux (NET), hospitaliers (NEH) et grade (NEG).  \n",
    "\n",
    "- code_grade_NEG : Code unique (interne CDC) correspondant au grade  \n",
    "- libelle_grade_NEG : Libellé du grade (interne CDC)  \n",
    "- code_nomenclature_net_neh : Code NET ou NEH correspondant à ce grade  \n",
    "- libelle_NET_NEH : Code NET ou NEH correspondant à ce grade  \n",
    "- date_effet : date de création du grade  \n",
    "- date_fin : date d'extinction du grade  \n",
    "- indice_brut : Indice brut de rémunération correspondant à l'échelon détenu par l'agent, sur la période de référence  \n",
    "- rang_echelon : Echelon détenu par l'agent dans son grade  \n",
    "- code_etat : Code indiquant si le grade est en vigueur ou non  \n",
    "- libelle_NEG_rempl : Libellé du dernier grade (interne CDC) connu correspondant au grade de la période de référence, quand celui-ci a été supprimé/remplacé au cours du temps  \n",
    "- libelle_NET_NEH_rempl : Libellé du dernier grade (nomenclature NET/NEH) connu correspondant au grade de la période de référence, quand celui-ci a été supprimé/remplacé au cours du temps  \n",
    "- code_NET_NEH_rempl : Code du dernier grade (nomenclature NET/NEH) connu correspondant au grade de la période de référence, quand celui-ci a été supprimé/remplacé au cours du temps  \n",
    "- libelle_statut : Libellé de la fonction publique du grade en question  \n",
    "\n",
    "<br>\n",
    "Données qui nous sont nécessaires pour compléter notre fichier 'hackhaton_020k_alea_b.csv', dans lequel on retrouve :\n",
    "\n",
    "- Categorie_emploi : catégorie d’emploi exercé par l’agent\n",
    "- Emploi_statutaire : code grade de l’agent (rempli depuis 2011 seulement)\n",
    "- Etat : code état de la période\n",
    "- ID_carriere : numéro d’identification d’un agent\n",
    "- Indice_brut : indice brut de rémunération d’un agent, correspondant à sa grille (voir NEG)\n",
    "- Libelle_emploi_grade : libellé du grade de l’agent\n",
    "- Qualite : statut juridique liant l’agent à son employeur pendant la période\n",
    "- Statut_agent : fonction publique où exerce l’agent\n",
    "- Date_debut : date de début de la période sur laquelle les autres informations sont valides\n",
    "- Date_fin : date de fin de la période sur laquelle les autres informations sont valides\n",
    "\n"
   ]
  },
  {
   "cell_type": "markdown",
   "id": "de97b2d9-4dcc-49b2-8ef1-cfd13eb72a42",
   "metadata": {},
   "source": [
    "<p style=\"color:#FFF; background:#AD1C1C; padding:5px;  font-style:italic; text-align:center\">\n",
    "<span style=\"font-size:30px; font-style:normal; font-family:'Century Schoolbook'\">Comment on travaille sur les données</span>\n",
    "</p>"
   ]
  },
  {
   "cell_type": "markdown",
   "id": "e241f75e-366b-4bbb-9b42-e4d1eba03a0f",
   "metadata": {
    "tags": []
   },
   "source": [
    "Afin de mener à bien notre travail, il a fallu structurer et organiser la manière dont nous traitons les données.\n",
    "\n",
    "- Dans un premier temps, il s'agit de vérifier et mettre à jour tous les codes présents dans la base de données. Par la suite, différents cas à traiter:\n",
    "  1) dictionnaire ? {ancien1, ancien2, ancien3 : nouveau code}\n",
    "  2) {nouveau code : nouveau code} ? \n",
    "  3) pas d'ancien code ?\n",
    "  4) mauvais code ? (a verifier mais pas sur)  \n",
    "\n",
    "\n",
    "- Dans un deuxième temps, remplacer ceux qui sont logiques\n",
    "\n",
    "- Après, plus proches voisins/ autre truc sympa : comment ?   \n",
    "\n",
    "- séparer entre les trois branches (hosp, territoriale, militaire) pour etre plus precis"
   ]
  },
  {
   "cell_type": "markdown",
   "id": "b8dfb389-4b34-4f31-8453-e032e3a2b525",
   "metadata": {},
   "source": [
    "<p style=\"color:#FFF; background:#AD1C1C; padding:5px;  font-style:italic; text-align:center\">\n",
    "<span style=\"font-size:30px; font-style:normal; font-family:'Century Schoolbook'\">Présentation des résultats</span>\n",
    "</p>"
   ]
  },
  {
   "cell_type": "markdown",
   "id": "25728cfe-2c83-412f-bada-509299fae795",
   "metadata": {},
   "source": []
  }
 ],
 "metadata": {
  "kernelspec": {
   "display_name": "Python 3 (ipykernel)",
   "language": "python",
   "name": "python3"
  },
  "language_info": {
   "codemirror_mode": {
    "name": "ipython",
    "version": 3
   },
   "file_extension": ".py",
   "mimetype": "text/x-python",
   "name": "python",
   "nbconvert_exporter": "python",
   "pygments_lexer": "ipython3",
   "version": "3.9.12"
  }
 },
 "nbformat": 4,
 "nbformat_minor": 5
}
